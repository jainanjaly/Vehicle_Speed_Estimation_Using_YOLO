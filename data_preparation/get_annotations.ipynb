{
 "cells": [
  {
   "cell_type": "markdown",
   "metadata": {},
   "source": [
    "### Dataset preparation\n",
    "#### Download DETRAC dataset"
   ]
  },
  {
   "cell_type": "code",
   "execution_count": 2,
   "metadata": {},
   "outputs": [],
   "source": [
    "! wget -O DETRAC-train-data.zip http://detrac-db.rit.albany.edu/Data/DETRAC-train-data.zip\n",
    "! wget -O DETRAC-test-data.zip http://detrac-db.rit.albany.edu/Data/DETRAC-test-data.zip\n",
    "! wget -O DETRAC-Train-Annotations-XML.zip http://detrac-db.rit.albany.edu/Data/DETRAC-Train-Annotations-XML.zip\n",
    "! unzip -q DETRAC-train-data.zip -d data/\n",
    "! unzip -q DETRAC-test-data.zip -d data/\n",
    "! unzip -q DETRAC-Train-Annotations-XML.zip -d data/\n",
    "! rm -r *.zip\n",
    "! mkdir data/MOT"
   ]
  },
  {
   "cell_type": "markdown",
   "metadata": {},
   "source": [
    "### Data Format\n",
    "All the datasets have the following structure:\n",
    "\n",
    "```\n",
    "train/\t|-- images/\n",
    "            |   |-- 1.jpg\n",
    "            |   |-- 2.jpg\n",
    "            |   |-- ...\n",
    "        |-- labels/\n",
    "            |   |-- 1.jpg\n",
    "            |   |-- 2.jpg\n",
    "            |   |-- ...\n",
    "            |\n",
    "val/\t|-- images/\n",
    "            |   |-- 1.jpg\n",
    "            |   |-- 2.jpg\n",
    "            |   |-- ...\n",
    "        |-- labels/\n",
    "            |   |-- 1.jpg\n",
    "            |   |-- 2.jpg\n",
    "            |   |-- ...\n",
    "            |\n",
    "test/\t|-- images/\n",
    "            |   |-- 1.jpg\n",
    "            |   |-- 2.jpg\n",
    "            |   |-- ...\n",
    "\n",
    "```"
   ]
  },
  {
   "cell_type": "markdown",
   "metadata": {},
   "source": [
    "Import the gen_labels_detrac.py file"
   ]
  },
  {
   "cell_type": "code",
   "execution_count": 3,
   "metadata": {},
   "outputs": [],
   "source": [
    "import gen_labels_detrac"
   ]
  },
  {
   "cell_type": "code",
   "execution_count": 4,
   "metadata": {},
   "outputs": [
    {
     "name": "stdout",
     "output_type": "stream",
     "text": [
      "60it [00:00, 105.80it/s]\n",
      "100%|███████████████████████████████████████████| 60/60 [00:00<00:00, 85.56it/s]\n"
     ]
    }
   ],
   "source": [
    "# will take about 25-30 minutes\n",
    "! python gen_labels_detrac.py > gen_labes_log.log\n",
    "#! python gen_labels_detrac.py"
   ]
  },
  {
   "cell_type": "code",
   "execution_count": 5,
   "metadata": {},
   "outputs": [
    {
     "name": "stdout",
     "output_type": "stream",
     "text": [
      "/home/anjaly/Desktop/speed_source_code/data_preparation\n"
     ]
    }
   ],
   "source": [
    "! pwd"
   ]
  },
  {
   "cell_type": "markdown",
   "metadata": {},
   "source": [
    "Steps to get data in the specified format"
   ]
  },
  {
   "cell_type": "code",
   "execution_count": 6,
   "metadata": {},
   "outputs": [],
   "source": [
    "! mkdir data/MOT/DETRAC/train\n",
    "! mkdir data/MOT/DETRAC/val\n",
    "! mkdir data/MOT/DETRAC/test\n",
    "! mkdir data/MOT/DETRAC/train/images\n",
    "! mkdir data/MOT/DETRAC/train/labels\n",
    "! mkdir data/MOT/DETRAC/val/images\n",
    "! mkdir data/MOT/DETRAC/val/labels"
   ]
  },
  {
   "cell_type": "code",
   "execution_count": null,
   "metadata": {},
   "outputs": [],
   "source": [
    "! pwd"
   ]
  },
  {
   "cell_type": "code",
   "execution_count": 9,
   "metadata": {},
   "outputs": [],
   "source": [
    "! mv data/MOT/DETRAC/images/train/MVI_63562 data/MOT/DETRAC/val/images\n",
    "! mv data/MOT/DETRAC/images/train/MVI_63563 data/MOT/DETRAC/val/images\n",
    "! mv data/MOT/DETRAC/labels_with_ids/train/MVI_63562 data/MOT/DETRAC/val/labels\n",
    "! mv data/MOT/DETRAC/labels_with_ids/train/MVI_63563 data/MOT/DETRAC/val/labels"
   ]
  },
  {
   "cell_type": "code",
   "execution_count": 10,
   "metadata": {},
   "outputs": [],
   "source": [
    "! mkdir data/MOT/DETRAC/test/DETRAC-test-data\n",
    "! cp -r data/Insight-MVT_Annotation_Test data/MOT/DETRAC/test/DETRAC-test-data"
   ]
  },
  {
   "cell_type": "code",
   "execution_count": null,
   "metadata": {},
   "outputs": [],
   "source": [
    "! mv data/MOT/DETRAC/labels_with_ids/train/MVI_* data/MOT/DETRAC/train/labels\n",
    "! mv data/Insight-MVT_Annotation_Train/MVI_* data/MOT/DETRAC/train/images"
   ]
  },
  {
   "cell_type": "markdown",
   "metadata": {},
   "source": [
    "Clearing unnecessary folders"
   ]
  },
  {
   "cell_type": "code",
   "execution_count": 14,
   "metadata": {},
   "outputs": [],
   "source": [
    "! rm -rf data/MOT/DETRAC/images\n",
    "! rm -rf data/MOT/DETRAC/labels_with_ids"
   ]
  },
  {
   "cell_type": "code",
   "execution_count": 15,
   "metadata": {},
   "outputs": [],
   "source": [
    "! rm -rf data/DETRAC-Train-Annotations-XML\n",
    "! rm -rf data/Insight-MVT_Annotation_Test\n",
    "! rm -rf data/Insight-MVT_Annotation_Train"
   ]
  }
 ],
 "metadata": {
  "kernelspec": {
   "display_name": "Python 3",
   "language": "python",
   "name": "python3"
  },
  "language_info": {
   "codemirror_mode": {
    "name": "ipython",
    "version": 3
   },
   "file_extension": ".py",
   "mimetype": "text/x-python",
   "name": "python",
   "nbconvert_exporter": "python",
   "pygments_lexer": "ipython3",
   "version": "3.8.10"
  }
 },
 "nbformat": 4,
 "nbformat_minor": 2
}
